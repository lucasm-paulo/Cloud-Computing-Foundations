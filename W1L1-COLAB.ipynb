{
  "nbformat": 4,
  "nbformat_minor": 0,
  "metadata": {
    "colab": {
      "name": "W1L1.ipynb",
      "provenance": [],
      "authorship_tag": "ABX9TyMopGDUIbmkyVtSzIlyQiOd",
      "include_colab_link": true
    },
    "kernelspec": {
      "name": "python3",
      "display_name": "Python 3"
    },
    "language_info": {
      "name": "python"
    }
  },
  "cells": [
    {
      "cell_type": "markdown",
      "metadata": {
        "id": "view-in-github",
        "colab_type": "text"
      },
      "source": [
        "<a href=\"https://colab.research.google.com/github/lucasm-paulo/Cloud-Computing-Foundations/blob/main/W1L1-COLAB.ipynb\" target=\"_parent\"><img src=\"https://colab.research.google.com/assets/colab-badge.svg\" alt=\"Open In Colab\"/></a>"
      ]
    },
    {
      "cell_type": "code",
      "execution_count": 2,
      "metadata": {
        "colab": {
          "base_uri": "https://localhost:8080/"
        },
        "id": "ZAtfBcLixw0a",
        "outputId": "a877e26a-4911-4fa9-d663-055aa21cddc7"
      },
      "outputs": [
        {
          "output_type": "stream",
          "name": "stdout",
          "text": [
            "hello world\n"
          ]
        }
      ],
      "source": [
        "print(\"hello world\")"
      ]
    },
    {
      "cell_type": "markdown",
      "source": [
        "# **The code above is a simple print statement in Python**\n",
        "#### It prints the classic _\"hello world\"_ phrase"
      ],
      "metadata": {
        "id": "kF9KgGl12ZXH"
      }
    }
  ]
}